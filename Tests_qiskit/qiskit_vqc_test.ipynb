{
 "cells": [
  {
   "cell_type": "markdown",
   "metadata": {},
   "source": [
    "# A minimal Qiskit VQC test"
   ]
  },
  {
   "cell_type": "markdown",
   "metadata": {},
   "source": [
    "## Useful links\n",
    "\n",
    "* *VQC DOCUMENTATION*: https://qiskit.org/documentation/stubs/qiskit.aqua.algorithms.VQC.html\n",
    "* Classical optimizers included in Qiskit: https://qiskit.org/documentation/apidoc/qiskit.aqua.components.optimizers.html\n",
    "\n",
    "* TwoLocal (variational circuit):\n",
    "https://qiskit.org/documentation/stubs/qiskit.circuit.library.TwoLocal.html\n",
    "\n",
    "* ZZFeatureMap:\n",
    "https://qiskit.org/documentation/stubs/qiskit.circuit.library.ZZFeatureMap.html"
   ]
  },
  {
   "cell_type": "markdown",
   "metadata": {},
   "source": [
    "## Basic setup\n",
    "\n",
    "This loads the necessary modules, variables and circuits. These cells only need to be run once."
   ]
  },
  {
   "cell_type": "code",
   "execution_count": 1,
   "metadata": {},
   "outputs": [
    {
     "name": "stdout",
     "output_type": "stream",
     "text": [
      "Requirement already satisfied: nlopt in /opt/conda/lib/python3.8/site-packages (2.6.2)\n",
      "Requirement already satisfied: numpy>=1.14 in /opt/conda/lib/python3.8/site-packages (from nlopt) (1.19.1)\n"
     ]
    }
   ],
   "source": [
    "!pip3 install nlopt"
   ]
  },
  {
   "cell_type": "code",
   "execution_count": 2,
   "metadata": {},
   "outputs": [],
   "source": [
    "from qiskit.ml.datasets import *\n",
    "from qiskit.circuit.library import ZZFeatureMap # Generates the feature map.\n",
    "from qiskit.aqua.components.optimizers import CRS, TNC, ISRES # Classical optimizer (any would do).\n",
    "from qiskit.circuit.library.n_local.two_local import TwoLocal # Generates the variational circuit.\n",
    "\n",
    "from qiskit import Aer\n",
    "from qiskit.aqua import QuantumInstance\n",
    "from qiskit.aqua.algorithms import VQC"
   ]
  },
  {
   "cell_type": "code",
   "execution_count": 3,
   "metadata": {},
   "outputs": [],
   "source": [
    "feature_dim = 2\n",
    "var_form = TwoLocal(feature_dim, 'ry', 'cx', 'linear', reps = 3, insert_barriers=False)\n",
    "feature_map = ZZFeatureMap(feature_dimension=feature_dim, reps = 3, entanglement='linear')"
   ]
  },
  {
   "cell_type": "markdown",
   "metadata": {},
   "source": [
    "## Data generation and quantum simulation\n",
    "Do not run this on your personal computer –– it will take an eternity.\n",
    "Using global classical optimizers, the simulations consistently yield success ratios above $0.5$."
   ]
  },
  {
   "cell_type": "code",
   "execution_count": 4,
   "metadata": {},
   "outputs": [],
   "source": [
    "sample_Total, training_input, test_input, class_labels = ad_hoc_data(\n",
    "    training_size = 40, \n",
    "    test_size = 40, \n",
    "    n = feature_dim, \n",
    "    gap = 0.3,\n",
    ")\n",
    "vqc = VQC(ISRES(), feature_map, var_form, training_input, test_input)"
   ]
  },
  {
   "cell_type": "code",
   "execution_count": null,
   "metadata": {
    "scrolled": true
   },
   "outputs": [],
   "source": [
    "seed = 10598\n",
    "backend = Aer.get_backend('qasm_simulator')\n",
    "quantum_instance = QuantumInstance(backend, shots=1024, seed_simulator=seed, seed_transpiler=seed)\n",
    "\n",
    "result = vqc.run(quantum_instance)\n",
    "\n",
    "print(\"testing success ratio: {}\".format(result['testing_accuracy']))"
   ]
  }
 ],
 "metadata": {
  "kernelspec": {
   "display_name": "Python 3",
   "language": "python",
   "name": "python3"
  },
  "language_info": {
   "codemirror_mode": {
    "name": "ipython",
    "version": 3
   },
   "file_extension": ".py",
   "mimetype": "text/x-python",
   "name": "python",
   "nbconvert_exporter": "python",
   "pygments_lexer": "ipython3",
   "version": "3.8.5"
  },
  "varInspector": {
   "cols": {
    "lenName": 16,
    "lenType": 16,
    "lenVar": 40
   },
   "kernels_config": {
    "python": {
     "delete_cmd_postfix": "",
     "delete_cmd_prefix": "del ",
     "library": "var_list.py",
     "varRefreshCmd": "print(var_dic_list())"
    },
    "r": {
     "delete_cmd_postfix": ") ",
     "delete_cmd_prefix": "rm(",
     "library": "var_list.r",
     "varRefreshCmd": "cat(var_dic_list()) "
    }
   },
   "types_to_exclude": [
    "module",
    "function",
    "builtin_function_or_method",
    "instance",
    "_Feature"
   ],
   "window_display": false
  }
 },
 "nbformat": 4,
 "nbformat_minor": 4
}
